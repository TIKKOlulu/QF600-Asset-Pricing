{
 "cells": [
  {
   "cell_type": "markdown",
   "id": "ec19382f-a93f-4a10-be3e-6531ce90aa94",
   "metadata": {},
   "source": [
    "# AP HW6"
   ]
  },
  {
   "cell_type": "markdown",
   "id": "936a244b-872d-4f11-ada6-e722328cba26",
   "metadata": {},
   "source": [
    "## Behavioural Finance"
   ]
  },
  {
   "cell_type": "markdown",
   "id": "5a703830-7755-423c-a6ac-aeca2f05beac",
   "metadata": {},
   "source": [
    "#### Assume Barberis, Huang, and Santos economy where investor receives utility from consumption as well as recent financial gain or loss. Use these parameters:\n",
    "$$\n",
    "\\delta = 0.99, \\quad \\gamma = 1, \\quad \\lambda = 2\n",
    "$$"
   ]
  },
  {
   "cell_type": "markdown",
   "id": "e1f51cc6-5102-4609-9b03-0a8d94e51fee",
   "metadata": {},
   "source": [
    "#### Consumption growth has lognormal distribution:\n",
    "$$\n",
    "\\ln \\tilde{g} = 0.02 + 0.02 \\tilde{\\varepsilon}\n",
    "$$"
   ]
  },
  {
   "cell_type": "markdown",
   "id": "a3cf8840-8115-4f51-9af3-50847ffe4c2c",
   "metadata": {},
   "source": [
    "#### where ε is standard normal random variable. Simulate probability distribution for consumption growth with (at least) 104 random draws from standard normal distribution.\n",
    "\n",
    "#### With these parameters, risk-free rate is around 3% per year:\n",
    "$$\n",
    "R_f = \\frac{e^{0.0198}}{0.99} = 1.0303 \n",
    "$$\n",
    "#### Define x as one plus dividend yield for market portfolio:\n",
    "$$\n",
    "x = \\left(1 + \\frac{P}{D}\\right) \\frac{D}{P} = 1 + \\frac{D}{P}\n",
    "$$\n",
    "#### and define error term:\n",
    "$$\n",
    "e(x) = 0.99b_0 E[v(x\\tilde{g})] + 0.99x - 1\n",
    "$$\n",
    "#### where utility from recent financial gain or loss is given by:\n",
    "$$\n",
    "v(R) = \\begin{cases}R - 1.0303 & \\text{for } R \\geq 1.0303 \\\\\n",
    "v(R) = 2(R - 1.0303) & \\text{for } R < 1.0303\\end{cases}\n",
    "$$\n",
    "#### Solve for e(x) = 0 to find equilibrium value of x, using bisection search:\n",
    "1. Set x– = 1 and x+ = 1.1, and use simulated distribution of consumption growth to confirm that e(x–) < 0 and e(x+) > 0 ⇒ solution must lie between x– and x+\n",
    "2. Set x0 = 0.5*(x– + x+) and use simulated distribution of consumption growth to calculate e(x0)\n",
    "3. If |e(x0)| < 10–5, then you have converged to solution\n",
    "4. Otherwise if e(x0) < 0, then solution lies between x0 and x+ ⇒ repeat from step 2 with x– = x0\n",
    "5. Otherwise if e(x0) > 0, then solution lies between x– and x0 ⇒ repeat from step 2 with x+ = x0\n",
    "#### Repeat for b0 in range from 0 to 10, in increments of 0.1 (or less)."
   ]
  },
  {
   "cell_type": "code",
   "execution_count": 1,
   "id": "3b7c61a9-e5ee-4f03-a6c4-3ce5efa3a642",
   "metadata": {},
   "outputs": [],
   "source": [
    "import numpy as np\n",
    "import pandas as pd\n",
    "import matplotlib.pyplot as plt"
   ]
  },
  {
   "cell_type": "markdown",
   "id": "06f34304-2b71-4813-a421-336fe6e93cd8",
   "metadata": {},
   "source": [
    "## <span style=\"color:red\">设置参数</span>"
   ]
  },
  {
   "cell_type": "markdown",
   "id": "fbd6f5c2-5811-4548-b3c5-7a4c84bef65f",
   "metadata": {},
   "source": [
    "#### \n",
    "> delta 是折现因子。\\\n",
    "> b0_values 是一组 b0 参数的取值范围，用于衡量投资者对近期财务损益的关注程度。\\\n",
    "> Rf 表示无风险利率，假设为 3% 年化收益率。\\\n",
    "> mu 和 sigma 分别为消费增长的均值和波动率，假设消费增长服从对数正态分布。"
   ]
  },
  {
   "cell_type": "code",
   "execution_count": null,
   "id": "4d75625d-1182-4ee2-b3be-c93dd0c70113",
   "metadata": {},
   "outputs": [],
   "source": [
    "# define all parameters\n",
    "delta = 0.99\n",
    "b0_values = np.arange(0, 10.1, 0.1)# from 0 to 10, step is 0.1\n",
    "Rf = 1.0303#  无风险利率\n",
    "mu = 0.02#  消费增长均值\n",
    "sigma = 0.02  # 消费增长的标准差"
   ]
  },
  {
   "cell_type": "markdown",
   "id": "3a2c3a55-7caa-4de9-842e-41d6022c62f5",
   "metadata": {},
   "source": [
    "## <span style=\"color:red\">模拟消费增长率的分布</span>"
   ]
  },
  {
   "cell_type": "code",
   "execution_count": null,
   "id": "3330a627-4edb-41b7-bb0c-3e58de54d0ea",
   "metadata": {},
   "outputs": [],
   "source": [
    "np.random.seed(50)\n",
    "num_samples = 10000"
   ]
  },
  {
   "cell_type": "code",
   "execution_count": 3,
   "id": "9f367a1f-fe89-4023-a3b6-1fed89a49164",
   "metadata": {},
   "outputs": [],
   "source": [
    "epsilon = np.random.normal(0, 1, num_samples)\n",
    "log_g_tilde = mu + sigma * epsilon\n",
    "g_tilde = np.exp(log_g_tilde)"
   ]
  },
  {
   "cell_type": "code",
   "execution_count": 4,
   "id": "238383c5-f4d1-4a82-9ee0-58722c14dff1",
   "metadata": {},
   "outputs": [],
   "source": [
    "# 定义损益效用函数 v(R)，用于模拟投资者对财务收益或损失的敏感度。\n",
    "# 当 R >= Rf 时，v(R) = R - Rf，表示投资者的正常收益。\n",
    "# 当 R < Rf 时，v(R) = 2 * (R - Rf)，表示投资者对损失的双倍敏感（损失厌恶）。\n",
    "# 这种函数形式体现了行为金融学中的“损失厌恶”，即相较于收益，投资者对损失更敏感。\n",
    "def v(R):\n",
    "    return np.where(R >= Rf, R - Rf, 2 * (R - 1.0303))\n",
    "\n",
    "\n",
    "# 定义函数 e(x)，用于计算给定 x 和 b0 下的期望收益差。\n",
    "# expected_v = np.mean(v(x * g_tilde)) 计算在 x * g_tilde 下的 v(R) 的期望。\n",
    "# delta * b0 * expected_v + delta * x - 1 是 e(x) 的计算公式，反映了投资者在 x 值下的期望收益与平衡条件的差距。\n",
    "# 求解 e(x) = 0 可得市场均衡的 x 值，即市场组合的均衡价格。\n",
    "def e_x(x, b0):\n",
    "    expected_v = np.mean(v(x * g_tilde))\n",
    "    return delta * b0 * expected_v + delta * x - 1\n",
    "\n",
    "# Dichotomy solution e(x) = 0\n",
    "# 使用二分法求解 e(x) = 0\n",
    "# x_low 和 x_high 分别设定为初始区间的上下限（1.0 和 1.1）。\n",
    "# x_mid 是区间的中点，通过 e_x(x_mid, b0) 计算 e(x) 的值。\n",
    "# 当 e(x_mid) 接近 0 时，返回 x_mid 作为近似解，否则根据 e(x_mid) 的符号缩小区间范围。\n",
    "# 最终返回使 e(x) 接近 0 的 x 值，即在给定 b0 下市场均衡时的 x 值。\n",
    "\n",
    "def bisection_search(b0, tol=1e-5, max_iter=1000):\n",
    "    x_low, x_high = 1.0, 1.1\n",
    "    for _ in range(max_iter):\n",
    "        x_mid = 0.5 * (x_low + x_high)\n",
    "        e_mid = e_x(x_mid, b0)\n",
    "        if abs(e_mid) < tol:\n",
    "            return x_mid\n",
    "        elif e_mid < 0:\n",
    "            x_low = x_mid\n",
    "        else:\n",
    "            x_high = x_mid\n",
    "    return x_mid"
   ]
  },
  {
   "cell_type": "markdown",
   "id": "2720035b-640e-4a7a-b515-93572fce94e6",
   "metadata": {},
   "source": [
    "## <span style=\"color:red\">计算价格-股利比率</span>\n",
    "####\n",
    "> x_star 是在给定 b0 值下通过二分法求得的市场均衡 x。\\\n",
    "> price_dividend_ratio = 1 / (x_star - 1) 计算价格-股利比率。价格-股利比率越高，意味着市场估值越高。\\\n",
    "> 将不同 b0 值下的价格-股利比率存储在 price_dividend_ratios 列表中。"
   ]
  },
  {
   "cell_type": "markdown",
   "id": "a4e8379a-f981-4fda-8150-2dcadd2e19aa",
   "metadata": {},
   "source": [
    "#### Calculate price-dividend ratio for market portfolio:\n",
    "$$\n",
    "\\frac{P}{D} = \\frac{1}{x - 1}\n",
    "$$\n",
    "Plot price-dividend ratio (on vertical axis) vs b0."
   ]
  },
  {
   "cell_type": "code",
   "execution_count": 5,
   "id": "69c9a84e-683e-4006-91a2-7224921ddf40",
   "metadata": {},
   "outputs": [],
   "source": [
    "price_dividend_ratios = []\n",
    "for b0 in b0_values:\n",
    "    x_star = bisection_search(b0)\n",
    "    price_dividend_ratio = 1 / (x_star - 1)\n",
    "    price_dividend_ratios.append(price_dividend_ratio)"
   ]
  },
  {
   "cell_type": "markdown",
   "id": "a3b277c4-52a3-4d29-a657-19f0e160b6ba",
   "metadata": {},
   "source": [
    "## <span style=\"color:red\">绘制价格-股利比率与 b0 的关系图</span>\n",
    "####\n",
    "> 横轴为 b0，纵轴为价格-股利比率。随着 b0 增大（投资者对短期财务盈亏的关注增加），价格-股利比率也会发生变化。该图展示了投资者关注短期财务变化对市场估值的影响。\n"
   ]
  },
  {
   "cell_type": "code",
   "execution_count": 6,
   "id": "31895160-1e8a-4508-b899-d27e504fa76d",
   "metadata": {},
   "outputs": [
    {
     "data": {
      "image/png": "[encoded data removed]",
      "text/plain": [
       "<Figure size 640x480 with 1 Axes>"
      ]
     },
     "metadata": {},
     "output_type": "display_data"
    }
   ],
   "source": [
    "plt.plot(b0_values, price_dividend_ratios)\n",
    "plt.xlabel('$b_0$')\n",
    "plt.ylabel('Price-Dividend Ratio')\n",
    "plt.title('Price-Dividend Ratio vs $b_0$')\n",
    "plt.grid(True)\n",
    "plt.show()"
   ]
  },
  {
   "cell_type": "markdown",
   "id": "cd16d0dd-0fc4-405a-a418-3fae5403045e",
   "metadata": {},
   "source": [
    "## <span style=\"color:red\">计算期望市场收益和股权溢价</span>"
   ]
  },
  {
   "cell_type": "markdown",
   "id": "9d789d76-b74b-4dfc-9f81-17d01d70f2b2",
   "metadata": {},
   "source": [
    "#### Calculate expected market return:\n",
    "$$\n",
    "E\\left(\\tilde{R}_m\\right) = E(x\\tilde{g}) = x e^{0.0202}\n",
    "$$\n",
    "Plot equity premium (on vertical axis) vs b0."
   ]
  },
  {
   "cell_type": "code",
   "execution_count": 7,
   "id": "6d095bb4-65cb-4689-9cd0-772618c64aff",
   "metadata": {},
   "outputs": [
    {
     "data": {
      "image/png": "[encoded data removed]",
      "text/plain": [
       "<Figure size 640x480 with 1 Axes>"
      ]
     },
     "metadata": {},
     "output_type": "display_data"
    }
   ],
   "source": [
    "# calculate for expecation return\n",
    "expected_market_returns = []\n",
    "equity_premiums = []\n",
    "\n",
    "for b0 in b0_values:\n",
    "    x_star = bisection_search(b0)\n",
    "    expected_market_return = x_star * np.exp(0.0202)# 计算市场组合的期望收益，假设消费增长率的对数均值为 0.0202。\n",
    "    expected_market_returns.append(expected_market_return)\n",
    "    equity_premium = expected_market_return - Rf# 计算股权溢价，即市场期望收益与无风险利率的差异。\n",
    "    equity_premiums.append(equity_premium)\n",
    "\n",
    "# 绘制股权溢价与 b0 的关系图\n",
    "plt.plot(b0_values, equity_premiums)\n",
    "plt.xlabel('$b_0$')\n",
    "plt.ylabel('Equity Premium')\n",
    "plt.title('Equity Premium vs $b_0$')\n",
    "plt.grid(True)\n",
    "plt.show()\n",
    "# 随着 b0 增大，投资者对短期财务盈亏的关注增加，导致股权溢价上升。\n",
    "# 股权溢价代表了投资者为了承担市场风险而期望的额外回报。"
   ]
  },
  {
   "cell_type": "code",
   "execution_count": 10,
   "id": "17091196-347f-448f-a730-9310b34c6254",
   "metadata": {},
   "outputs": [
    {
     "data": {
      "text/html": [
       "<div>\n",
       "<style scoped>\n",
       "    .dataframe tbody tr th:only-of-type {\n",
       "        vertical-align: middle;\n",
       "    }\n",
       "\n",
       "    .dataframe tbody tr th {\n",
       "        vertical-align: top;\n",
       "    }\n",
       "\n",
       "    .dataframe thead th {\n",
       "        text-align: right;\n",
       "    }\n",
       "</style>\n",
       "<table border=\"1\" class=\"dataframe\">\n",
       "  <thead>\n",
       "    <tr style=\"text-align: right;\">\n",
       "      <th></th>\n",
       "      <th>price-dividend ratio</th>\n",
       "      <th>expected_market_returns</th>\n",
       "      <th>equity_premiums</th>\n",
       "    </tr>\n",
       "  </thead>\n",
       "  <tbody>\n",
       "    <tr>\n",
       "      <th>0</th>\n",
       "      <td>98.937198</td>\n",
       "      <td>1.030719</td>\n",
       "      <td>0.000419</td>\n",
       "    </tr>\n",
       "    <tr>\n",
       "      <th>1</th>\n",
       "      <td>93.302961</td>\n",
       "      <td>1.031342</td>\n",
       "      <td>0.001042</td>\n",
       "    </tr>\n",
       "    <tr>\n",
       "      <th>2</th>\n",
       "      <td>89.334787</td>\n",
       "      <td>1.031828</td>\n",
       "      <td>0.001528</td>\n",
       "    </tr>\n",
       "    <tr>\n",
       "      <th>3</th>\n",
       "      <td>86.413502</td>\n",
       "      <td>1.032214</td>\n",
       "      <td>0.001914</td>\n",
       "    </tr>\n",
       "    <tr>\n",
       "      <th>4</th>\n",
       "      <td>84.193217</td>\n",
       "      <td>1.032525</td>\n",
       "      <td>0.002225</td>\n",
       "    </tr>\n",
       "    <tr>\n",
       "      <th>...</th>\n",
       "      <td>...</td>\n",
       "      <td>...</td>\n",
       "      <td>...</td>\n",
       "    </tr>\n",
       "    <tr>\n",
       "      <th>96</th>\n",
       "      <td>68.423470</td>\n",
       "      <td>1.035318</td>\n",
       "      <td>0.005018</td>\n",
       "    </tr>\n",
       "    <tr>\n",
       "      <th>97</th>\n",
       "      <td>68.409186</td>\n",
       "      <td>1.035322</td>\n",
       "      <td>0.005022</td>\n",
       "    </tr>\n",
       "    <tr>\n",
       "      <th>98</th>\n",
       "      <td>68.394907</td>\n",
       "      <td>1.035325</td>\n",
       "      <td>0.005025</td>\n",
       "    </tr>\n",
       "    <tr>\n",
       "      <th>99</th>\n",
       "      <td>68.380634</td>\n",
       "      <td>1.035328</td>\n",
       "      <td>0.005028</td>\n",
       "    </tr>\n",
       "    <tr>\n",
       "      <th>100</th>\n",
       "      <td>68.366368</td>\n",
       "      <td>1.035331</td>\n",
       "      <td>0.005031</td>\n",
       "    </tr>\n",
       "  </tbody>\n",
       "</table>\n",
       "<p>101 rows × 3 columns</p>\n",
       "</div>"
      ],
      "text/plain": [
       "     price-dividend ratio  expected_market_returns  equity_premiums\n",
       "0               98.937198                 1.030719         0.000419\n",
       "1               93.302961                 1.031342         0.001042\n",
       "2               89.334787                 1.031828         0.001528\n",
       "3               86.413502                 1.032214         0.001914\n",
       "4               84.193217                 1.032525         0.002225\n",
       "..                    ...                      ...              ...\n",
       "96              68.423470                 1.035318         0.005018\n",
       "97              68.409186                 1.035322         0.005022\n",
       "98              68.394907                 1.035325         0.005025\n",
       "99              68.380634                 1.035328         0.005028\n",
       "100             68.366368                 1.035331         0.005031\n",
       "\n",
       "[101 rows x 3 columns]"
      ]
     },
     "execution_count": 10,
     "metadata": {},
     "output_type": "execute_result"
    }
   ],
   "source": [
    "data = {\n",
    "    'price-dividend ratio': price_dividend_ratios,\n",
    "    'expected_market_returns': expected_market_returns,\n",
    "    'equity_premiums': equity_premiums\n",
    "}\n",
    "df = pd.DataFrame(data)\n",
    "\n",
    "df"
   ]
  },
  {
   "cell_type": "markdown",
   "id": "568c13fd-249a-4e76-a78a-a9c81f3f250c",
   "metadata": {},
   "source": [
    "#### Briefly describe (in words, without using mathematical equations or formulas) main characteristics of v(∙) as well as economic significance and implications of b0 and λ.\n",
    "> v(∙) shows the investor's sensitivity to financial gains and losses, demonstrating loss aversion, which means losses have a greater emotional impact than equivalent gains. This makes investors more concerned about downside risk and more sensitive to potential losses.\n",
    "\n",
    "> b0 represents how much weight an investor places on recent financial gains or losses. A higher value means the investor is more focused on short-term performance rather than solely on long-term wealth. A higher b0 will lead investors to demand a greater equity premium and can increase market volatility. During economic downturns or market declines, it may amplify price instability.\n",
    "\n",
    "> λ represents the degree of loss aversion. A higher λ indicates that investors are more sensitive to losses compared to gains of the same magnitude. A higher λ will increase the demand for risk premiums, lowers equity prices, and amplify market volatility, especially during periods of economic uncertainty, as investors become more risk-averse.\n"
   ]
  }
 ],
 "metadata": {
  "kernelspec": {
   "display_name": "np2.x-kernel",
   "language": "python",
   "name": "np2.x-kernel"
  },
  "language_info": {
   "codemirror_mode": {
    "name": "ipython",
    "version": 3
   },
   "file_extension": ".py",
   "mimetype": "text/x-python",
   "name": "python",
   "nbconvert_exporter": "python",
   "pygments_lexer": "ipython3",
   "version": "3.9.20"
  }
 },
 "nbformat": 4,
 "nbformat_minor": 5
}
