{
 "cells": [
  {
   "cell_type": "markdown",
   "id": "e2ecd7f9-43b6-4632-9b65-44faf531fa9c",
   "metadata": {},
   "source": [
    "# QF600 ASSETING PRCING\n",
    "## HomeWork 1 EFFICIENT FRONTIER"
   ]
  },
  {
   "cell_type": "code",
   "execution_count": 2,
   "id": "486aeadb-f8fc-47d5-914a-4efb60b94c90",
   "metadata": {},
   "outputs": [],
   "source": [
    "import numpy as np\n",
    "import pandas as pd\n",
    "import matplotlib.pyplot as plt"
   ]
  },
  {
   "cell_type": "code",
   "execution_count": 3,
   "id": "00050508-e666-40fa-89e4-1fa8b93703f1",
   "metadata": {},
   "outputs": [
    {
     "name": "stdout",
     "output_type": "stream",
     "text": [
      "Variable               Type        Data/Info\n",
      "--------------------------------------------\n",
      "dataframe_columns      function    <function dataframe_columns at 0x10ccb9120>\n",
      "dataframe_hash         function    <function dataframe_hash at 0x12a517600>\n",
      "dtypes_str             function    <function dtypes_str at 0x10cc52700>\n",
      "get_dataframes         function    <function get_dataframes at 0x12a6477e0>\n",
      "getpass                module      <module 'getpass' from '/<...>b/python3.12/getpass.py'>\n",
      "hashlib                module      <module 'hashlib' from '/<...>b/python3.12/hashlib.py'>\n",
      "import_pandas_safely   function    <function import_pandas_safely at 0x10ccb9260>\n",
      "is_data_frame          function    <function is_data_frame at 0x10ccb8cc0>\n",
      "json                   module      <module 'json' from '/usr<...>on3.12/json/__init__.py'>\n",
      "np                     module      <module 'numpy' from '/us<...>kages/numpy/__init__.py'>\n",
      "pd                     module      <module 'pandas' from '/u<...>ages/pandas/__init__.py'>\n",
      "plt                    module      <module 'matplotlib.pyplo<...>es/matplotlib/pyplot.py'>\n"
     ]
    }
   ],
   "source": [
    "%whos"
   ]
  },
  {
   "cell_type": "code",
   "execution_count": 4,
   "id": "c23026b8-94d6-4298-9b90-fd0c683fed34",
   "metadata": {},
   "outputs": [],
   "source": [
    "data =\\\n",
    "    pd.read_csv(\"/Users/lu/Desktop/Industry_Portfolios.csv\")"
   ]
  },
  {
   "cell_type": "markdown",
   "id": "be9ade91-87b9-4db6-94b4-4d9c6fa001b4",
   "metadata": {},
   "source": [
    "## <span style=\"color:red\">计算平均收益和标准差</span>\n",
    "### 计算每个行业的平均收益、标准差和协方差矩阵"
   ]
  },
  {
   "cell_type": "markdown",
   "id": "f6f4cd34-0174-413e-80d1-ce690e85a339",
   "metadata": {},
   "source": [
    "###  Q1.1 Table Creation for the mean return and standard deviation of return."
   ]
  },
  {
   "cell_type": "code",
   "execution_count": 6,
   "id": "5ffd05f7-1185-40fd-84a7-4ba433fc9a4b",
   "metadata": {},
   "outputs": [],
   "source": [
    "data_1 =\\\n",
    "    data.drop(columns = ['Date'])"
   ]
  },
  {
   "cell_type": "code",
   "execution_count": 7,
   "id": "40d40932-4c1d-4d28-bc7a-381239c0b8d1",
   "metadata": {},
   "outputs": [
    {
     "data": {
      "text/html": [
       "<div>\n",
       "<style scoped>\n",
       "    .dataframe tbody tr th:only-of-type {\n",
       "        vertical-align: middle;\n",
       "    }\n",
       "\n",
       "    .dataframe tbody tr th {\n",
       "        vertical-align: top;\n",
       "    }\n",
       "\n",
       "    .dataframe thead th {\n",
       "        text-align: right;\n",
       "    }\n",
       "</style>\n",
       "<table border=\"1\" class=\"dataframe\">\n",
       "  <thead>\n",
       "    <tr style=\"text-align: right;\">\n",
       "      <th></th>\n",
       "      <th>MEAN RETURN</th>\n",
       "      <th>STANDARD DEVIATION RETURN</th>\n",
       "    </tr>\n",
       "  </thead>\n",
       "  <tbody>\n",
       "    <tr>\n",
       "      <th>NoDur</th>\n",
       "      <td>0.902833</td>\n",
       "      <td>3.345657</td>\n",
       "    </tr>\n",
       "    <tr>\n",
       "      <th>Durbl</th>\n",
       "      <td>0.733333</td>\n",
       "      <td>8.361852</td>\n",
       "    </tr>\n",
       "    <tr>\n",
       "      <th>Manuf</th>\n",
       "      <td>1.012833</td>\n",
       "      <td>5.310270</td>\n",
       "    </tr>\n",
       "    <tr>\n",
       "      <th>Enrgy</th>\n",
       "      <td>1.231167</td>\n",
       "      <td>6.081524</td>\n",
       "    </tr>\n",
       "    <tr>\n",
       "      <th>HiTec</th>\n",
       "      <td>0.766250</td>\n",
       "      <td>5.381191</td>\n",
       "    </tr>\n",
       "    <tr>\n",
       "      <th>Telcm</th>\n",
       "      <td>0.881417</td>\n",
       "      <td>4.448284</td>\n",
       "    </tr>\n",
       "    <tr>\n",
       "      <th>Shops</th>\n",
       "      <td>0.916333</td>\n",
       "      <td>4.093786</td>\n",
       "    </tr>\n",
       "    <tr>\n",
       "      <th>Hlth</th>\n",
       "      <td>0.783833</td>\n",
       "      <td>3.787172</td>\n",
       "    </tr>\n",
       "    <tr>\n",
       "      <th>Utils</th>\n",
       "      <td>0.907167</td>\n",
       "      <td>3.701763</td>\n",
       "    </tr>\n",
       "    <tr>\n",
       "      <th>Other</th>\n",
       "      <td>0.489083</td>\n",
       "      <td>5.582452</td>\n",
       "    </tr>\n",
       "  </tbody>\n",
       "</table>\n",
       "</div>"
      ],
      "text/plain": [
       "       MEAN RETURN  STANDARD DEVIATION RETURN\n",
       "NoDur     0.902833                   3.345657\n",
       "Durbl     0.733333                   8.361852\n",
       "Manuf     1.012833                   5.310270\n",
       "Enrgy     1.231167                   6.081524\n",
       "HiTec     0.766250                   5.381191\n",
       "Telcm     0.881417                   4.448284\n",
       "Shops     0.916333                   4.093786\n",
       "Hlth      0.783833                   3.787172\n",
       "Utils     0.907167                   3.701763\n",
       "Other     0.489083                   5.582452"
      ]
     },
     "execution_count": 7,
     "metadata": {},
     "output_type": "execute_result"
    }
   ],
   "source": [
    "mean_returns =\\\n",
    "    data_1.mean()# 各行业的月度平均收益\n",
    "\n",
    "sd_returns =\\\n",
    "    data_1.std()# 各行业的月度标准差（风险）\n",
    "\n",
    "cov_matrix =\\\n",
    "    data_1.cov()# 是各行业收益之间的协方差矩阵，用于计算组合的总方差\n",
    "\n",
    "summary = pd.concat([mean_returns, sd_returns], axis = 1)\n",
    "summary.columns = ['MEAN RETURN', 'STANDARD DEVIATION RETURN']\n",
    "\n",
    "summary"
   ]
  },
  {
   "cell_type": "markdown",
   "id": "1cf6c308-1550-4012-8154-8e129f37c0c5",
   "metadata": {},
   "source": [
    "## <span style=\"color:red\">计算最小方差边界</span>"
   ]
  },
  {
   "cell_type": "markdown",
   "id": "cf3c85fd-d7a6-4d32-9ef5-5a28f53f14e3",
   "metadata": {},
   "source": [
    "### Q1.2 Minimum-Variance Frontier"
   ]
  },
  {
   "cell_type": "code",
   "execution_count": 9,
   "id": "b65b2079-5b6d-4f7a-a75a-f9578fb0f8a4",
   "metadata": {},
   "outputs": [],
   "source": [
    "mu = data.mean().values\n",
    "cov_matrix_1 = np.linalg.inv(cov_matrix)"
   ]
  },
  {
   "cell_type": "code",
   "execution_count": 10,
   "id": "d3351b06-14aa-42a5-b32a-ade9c155beb2",
   "metadata": {},
   "outputs": [],
   "source": [
    "R = np.array(mean_returns)\n",
    "V = np.array(cov_matrix)\n",
    "e = np.ones(len(mean_returns))"
   ]
  },
  {
   "cell_type": "code",
   "execution_count": 11,
   "id": "45f17c66-e4ff-4d80-9d75-a8780e75c7f7",
   "metadata": {},
   "outputs": [],
   "source": [
    "inv_V = np.linalg.inv(V)"
   ]
  },
  {
   "cell_type": "code",
   "execution_count": 12,
   "id": "02eb8b56-74bc-45c1-a9f6-92501f4b2850",
   "metadata": {},
   "outputs": [
    {
     "name": "stdout",
     "output_type": "stream",
     "text": [
      "0.13794323869931885\n",
      "0.19640858464482272\n",
      "0.1373875973567116\n"
     ]
    }
   ],
   "source": [
    "alpha = np.dot(np.dot(R.T, inv_V), e)# 组合的期望收益\n",
    "print(alpha)\n",
    "zeta = np.dot(np.dot(R.T, inv_V), R)# 方差\n",
    "print(zeta)\n",
    "delta = np.dot(np.dot(e.T, inv_V), e)# 单位向量\n",
    "print(delta)"
   ]
  },
  {
   "cell_type": "markdown",
   "id": "a7ba870c-6fb8-4755-9ac2-3baf755fa6b8",
   "metadata": {},
   "source": [
    "$$ \\sigma_p^2 = \\frac{1}{\\delta} + \\frac{\\delta}{\\zeta \\delta - \\alpha^2}(r_p - r_{mv})^2 $$"
   ]
  },
  {
   "cell_type": "code",
   "execution_count": 14,
   "id": "7b269867-2246-40b8-8c87-5ec9c1e3eee2",
   "metadata": {},
   "outputs": [],
   "source": [
    "expected_returns = np.arange(0, 2, 0.1)# 期望收益的范围"
   ]
  },
  {
   "cell_type": "code",
   "execution_count": 15,
   "id": "83019a23-42c9-46e5-9ba1-4e73a8c8ac76",
   "metadata": {},
   "outputs": [],
   "source": [
    "portfolio_var = []\n",
    "for r_p in expected_returns:\n",
    "    #print(\"r_p: \", r_p)\n",
    "    # variance = (delta * r_p**2 - 2 * zeta * r_p + alpha) / (alpha * delta - zeta**2)\n",
    "    variance = 1. / delta + (delta / (zeta * delta - alpha**2)) * ( ( r_p - alpha / delta ) ** 2)\n",
    "    portfolio_var.append(variance)# 计算每个期望收益下的组合方差，并取平方根得到标准差 portfolio_sd。\n",
    "#print(\"check : \", portfolio_var )\n",
    "portfolio_sd = np.sqrt(portfolio_var)\n",
    "#最小方差边界表示在给定期望收益水平下的最小风险组合"
   ]
  },
  {
   "cell_type": "code",
   "execution_count": 16,
   "id": "67ecc3db-971e-4d35-a494-52842524c87a",
   "metadata": {},
   "outputs": [
    {
     "name": "stdout",
     "output_type": "stream",
     "text": [
      "[4.96865933 4.62520378 4.29451081 3.97976317 3.68504889 3.41555771\n",
      " 3.17771336 2.97910534 2.82801233 2.73232821 2.69795476 2.7272112\n",
      " 2.81811651 2.96500574 3.16008166 3.39504812 3.66223513 3.9551181\n",
      " 4.26841081 4.59794314]\n"
     ]
    }
   ],
   "source": [
    "print(portfolio_sd)"
   ]
  },
  {
   "cell_type": "code",
   "execution_count": 17,
   "id": "6d2a755b-22e6-4455-8294-c837d3708ebb",
   "metadata": {},
   "outputs": [
    {
     "name": "stdout",
     "output_type": "stream",
     "text": [
      "[24.68757549425759, 21.392509964329186, 18.442823093673947, 15.838514882291879, 13.57958533018298, 11.666034437347252, 10.09786220378469, 8.8750686294953, 7.997653714479077, 7.465617458736025, 7.2789598622661424, 7.4376809250694285, 7.941780647145885, 8.79125902849551, 9.986116069118305, 11.526351769014266, 13.411966128183401, 15.642959146625707, 18.219330824341174, 21.141081161329815]\n"
     ]
    }
   ],
   "source": [
    "print(portfolio_var)"
   ]
  },
  {
   "cell_type": "code",
   "execution_count": 18,
   "id": "76b03ce7-5d51-4699-9119-9e815d728bb3",
   "metadata": {},
   "outputs": [
    {
     "data": {
      "image/png": "[encoded data removed]",
      "text/plain": [
       "<Figure size 1000x600 with 1 Axes>"
      ]
     },
     "metadata": {},
     "output_type": "display_data"
    }
   ],
   "source": [
    "# 绘制最小方差边界图。\n",
    "# 横轴为组合的标准差（风险），纵轴为期望收益，最小方差边界展示了给定收益水平下风险最小的组合。\n",
    "plt.figure(figsize=(10, 6))\n",
    "plt.plot(portfolio_sd, expected_returns, label='Minimum-Variance Frontier')\n",
    "plt.xlabel('Standard Deviation of Return')\n",
    "plt.ylabel('Expected Return')\n",
    "plt.title('Minimum-Variance Frontier')\n",
    "plt.show()"
   ]
  },
  {
   "cell_type": "markdown",
   "id": "677cb080-01f1-4b7f-8f04-4d41ae3badea",
   "metadata": {},
   "source": [
    "### Q1.3 Explanation\n",
    "The minimum variance frontier can help the investor build the optimal portfolio, which gets more returns with less risk. The investor can reduce some uncertainty of risk and improve the overall return of their portfolios by diversifying investment."
   ]
  },
  {
   "cell_type": "markdown",
   "id": "5b027db1-3e57-4ea3-8fdf-544c346b1aa4",
   "metadata": {},
   "source": [
    "## <span style=\"color:red\">计算有效前沿</span>\n",
    "计算有效前沿上的组合方差和期望收益"
   ]
  },
  {
   "cell_type": "markdown",
   "id": "0505f9ad-c411-4e23-a689-ceba4a1f1c66",
   "metadata": {},
   "source": [
    "### Q2.1 Support that the risk_free rate is 0.13%  per month to Plot The Efficient Frontier "
   ]
  },
  {
   "cell_type": "code",
   "execution_count": 21,
   "id": "3151e316-154c-4121-809f-9cec8263a2dd",
   "metadata": {},
   "outputs": [],
   "source": [
    "r_f = 0.13"
   ]
  },
  {
   "cell_type": "markdown",
   "id": "409b6eaa-3783-41ed-8d8c-11e09f8609e6",
   "metadata": {},
   "source": [
    "$$ \\sigma_p^2 = \\frac{(r_p - r_f)^2}{\\zeta - 2 \\alpha r_f + \\delta (r_f)^2} $$\n"
   ]
  },
  {
   "cell_type": "markdown",
   "id": "8688a64d-ecbe-4b57-8713-49553a1cc793",
   "metadata": {},
   "source": [
    "sigma_p_sq 计算不同期望收益 r_p 下的组合方差，使用的是有效前沿的公式。\\\n",
    "eff_var 计算每个 sigma_p_sq 下的期望收益 r_p_2。\\\n",
    "有效前沿展示的是在无风险利率基础上，通过不同风险组合构建的收益-风险关系。"
   ]
  },
  {
   "cell_type": "code",
   "execution_count": 23,
   "id": "9c36cf03-7542-48ee-92a1-41b16625a53a",
   "metadata": {},
   "outputs": [
    {
     "name": "stdout",
     "output_type": "stream",
     "text": [
      "[0.32212854665893675, 0.07433735692129309, 0.17345383281635054, 0.42124502255399426, 0.6690362122916378, 0.9168274020292814, 1.1646185917669252, 1.4124097815045689, 1.6602009712422126, 1.907992160979856, 2.1557833507174995, 2.4035745404551436, 2.6513657301927878, 2.89915691993043, 3.146948109668074, 3.394739299405718, 3.642530489143362, 3.8903216788810058, 4.138112868618649, 4.385904058356292]\n"
     ]
    }
   ],
   "source": [
    "var = []\n",
    "for r_p in expected_returns:\n",
    "    sigma_p_sq = ((r_p - r_f)**2 / (zeta - (2 * alpha * r_f) + delta * (r_f)**2))**.5\n",
    "    var.append(sigma_p_sq)\n",
    "print(var)"
   ]
  },
  {
   "cell_type": "markdown",
   "id": "4e484e4f-869f-4cdd-85d7-b88492a6c99a",
   "metadata": {
    "scrolled": true
   },
   "source": [
    "$$ r_p = r_f + (\\zeta - 2 \\alpha r_f + \\delta (r_f^2))^{\\frac{1}{2}} \\sigma_p $$"
   ]
  },
  {
   "cell_type": "code",
   "execution_count": 25,
   "id": "ee06702f-016e-40db-a98c-996b16141b3a",
   "metadata": {},
   "outputs": [
    {
     "name": "stdout",
     "output_type": "stream",
     "text": [
      "[0.26, 0.16, 0.2, 0.30000000000000004, 0.4, 0.5, 0.6000000000000001, 0.7000000000000001, 0.8000000000000002, 0.9000000000000001, 1.0, 1.1, 1.2000000000000006, 1.2999999999999998, 1.4, 1.5, 1.6000000000000005, 1.7000000000000006, 1.8000000000000003, 1.9000000000000004]\n"
     ]
    }
   ],
   "source": [
    "eff_var = []\n",
    "for sd_p in var:\n",
    "    r_p_2 = r_f + (zeta - 2 * alpha * r_f + (delta * (r_f ** 2))) **.5 * sd_p\n",
    "    eff_var.append(r_p_2)\n",
    "print(eff_var)"
   ]
  },
  {
   "cell_type": "code",
   "execution_count": 26,
   "id": "cc35f347-655c-430d-8cd6-ea25ad4b29e5",
   "metadata": {},
   "outputs": [
    {
     "data": {
      "image/png": "[encoded data removed]",
      "text/plain": [
       "<Figure size 1000x600 with 1 Axes>"
      ]
     },
     "metadata": {},
     "output_type": "display_data"
    }
   ],
   "source": [
    "# 绘制最小方差边界和有效前沿\n",
    "plt.figure(figsize=(10, 6))\n",
    "plt.plot(portfolio_sd, expected_returns, label='Minimum-Variance Frontier')\n",
    "plt.plot(var, eff_var, label = 'EFFICIENT FRONTIER')\n",
    "plt.xlabel('Standard Deviation of Return')\n",
    "plt.ylabel('Expected Return')\n",
    "plt.title('Minimum-Variance Frontier')\n",
    "plt.legend()\n",
    "plt.show()"
   ]
  },
  {
   "cell_type": "markdown",
   "id": "4c8b01fe-0ae4-43e8-81f6-dfd14b3596d3",
   "metadata": {},
   "source": [
    "### Q2.2 Explanation\n",
    "The efficient frontier will provide a Scientific decision to help investors choose the optimal portfolio and emphasize the importance of asset allocation. Avoiding the investor focus too much on the performance of the individual asset so that they can be more reasonable diversification of investment to reduce the risk. Thereby, optimizing the balance between investment return and risks."
   ]
  },
  {
   "cell_type": "markdown",
   "id": "3717bb2d-90e8-45af-b5c3-2503c16dc5ec",
   "metadata": {},
   "source": [
    "## <span style=\"color:red\">计算 Sharpe 比率和切线组合</span>\n",
    "计算 Sharpe 比率和切线组合的收益与风险"
   ]
  },
  {
   "cell_type": "markdown",
   "id": "38b3ced6-9920-470c-9832-4e74545ced65",
   "metadata": {},
   "source": [
    "### Q3.1 Sharpe ratio"
   ]
  },
  {
   "cell_type": "code",
   "execution_count": 29,
   "id": "732bb9f4-03ea-4496-a63b-29362655d05f",
   "metadata": {},
   "outputs": [
    {
     "name": "stdout",
     "output_type": "stream",
     "text": [
      "1.4862735358446917\n"
     ]
    }
   ],
   "source": [
    "# 切线组合的期望收益，表示在无风险利率 r_f 基础上的最佳风险组合\n",
    "r_tg = (alpha * r_f - zeta)/(delta * r_f - alpha)\n",
    "print(r_tg)"
   ]
  },
  {
   "cell_type": "code",
   "execution_count": 30,
   "id": "c1b60a98-20f1-4a4e-b050-1d7fb67abe6f",
   "metadata": {},
   "outputs": [
    {
     "name": "stdout",
     "output_type": "stream",
     "text": [
      "3.360726330566368\n"
     ]
    }
   ],
   "source": [
    "# 是切线组合的标准差，表示切线组合的风险\n",
    "sigama_tg = -((zeta - 2 * alpha * r_f + delta * (r_f**2)) **.5)/ (delta * (r_f - alpha / delta))\n",
    "print(sigama_tg)"
   ]
  },
  {
   "cell_type": "code",
   "execution_count": 31,
   "id": "7b24bd22-b2f5-470e-90ed-f66b39ab19b5",
   "metadata": {},
   "outputs": [
    {
     "name": "stdout",
     "output_type": "stream",
     "text": [
      "0.40356559934950875\n"
     ]
    }
   ],
   "source": [
    "# Sharpe 比率，用于衡量切线组合的风险调整收益，Sharpe 比率越高，组合的风险调整收益越好\n",
    "shar_ratio = (r_tg - r_f) / sigama_tg\n",
    "print(shar_ratio)"
   ]
  },
  {
   "cell_type": "markdown",
   "id": "bf945c1b-b2bd-4d6a-b024-6d7d2f0f19ef",
   "metadata": {},
   "source": [
    "## <span style=\"color:red\">计算切线组合的权重</span>\n",
    "a 和 b 是切线组合权重的系数"
   ]
  },
  {
   "cell_type": "code",
   "execution_count": 32,
   "id": "a4e816ba-7469-4743-8f04-f0d14b5b145c",
   "metadata": {},
   "outputs": [],
   "source": [
    "a = (delta * r_tg - alpha) / (zeta * delta - alpha ** 2)"
   ]
  },
  {
   "cell_type": "code",
   "execution_count": 33,
   "id": "953ecb14-6c06-4a8e-b454-2c670f5c65e9",
   "metadata": {},
   "outputs": [],
   "source": [
    "b = (zeta - alpha * r_tg) / (zeta * delta - alpha ** 2)"
   ]
  },
  {
   "cell_type": "markdown",
   "id": "acd4be9d-7a89-4045-bb76-337db8a184cc",
   "metadata": {},
   "source": [
    "### w_star 计算得到切线组合中各资产的最优权重，表示在 Sharpe 比率最大化下的组合配置。\n",
    "### 切线组合位于有效前沿的最优点上，具有最高的 Sharpe 比率。"
   ]
  },
  {
   "cell_type": "code",
   "execution_count": 34,
   "id": "c62a4c46-7654-4384-8a7e-c176637b999e",
   "metadata": {},
   "outputs": [
    {
     "name": "stdout",
     "output_type": "stream",
     "text": [
      "[ 0.56797218 -0.2140726   0.71410511  0.10408719 -0.36343817 -0.09546326\n",
      "  0.99164683  0.0755702   0.13264333 -0.91305081]\n"
     ]
    }
   ],
   "source": [
    "w_star = a * np.dot(inv_V, R) + b * np.dot(inv_V, e)\n",
    "print(w_star)"
   ]
  },
  {
   "cell_type": "code",
   "execution_count": 35,
   "id": "fe08853c-88bf-4541-af51-5e8f9e6137cd",
   "metadata": {},
   "outputs": [
    {
     "name": "stdout",
     "output_type": "stream",
     "text": [
      "         WEIGHT\n",
      "NoDur  0.567972\n",
      "Durbl -0.214073\n",
      "Manuf  0.714105\n",
      "Enrgy  0.104087\n",
      "HiTec -0.363438\n",
      "Telcm -0.095463\n",
      "Shops  0.991647\n",
      "Hlth   0.075570\n",
      "Utils  0.132643\n",
      "Other -0.913051\n"
     ]
    }
   ],
   "source": [
    "df = pd.DataFrame(w_star, data_1.columns, columns = ['WEIGHT'])\n",
    "print(df)"
   ]
  },
  {
   "cell_type": "markdown",
   "id": "324c8383-32c5-48e8-9982-58001a03ff86",
   "metadata": {},
   "source": [
    "#### Q3.2 EXPLANATION\n",
    "The tangency portfolio helps investors understand the tradeoff between the risk and the return. Then, investors can evaluate a portfolio of different risks to make better investment strategies. In the equilibrium market, the optimal risk-return portfolio of investment in the CML. The bigger the Sharpe ratio, the better the portfolio, the bigger the expected return."
   ]
  }
 ],
 "metadata": {
  "kernelspec": {
   "display_name": "Python 3 (ipykernel)",
   "language": "python",
   "name": "python3"
  },
  "language_info": {
   "codemirror_mode": {
    "name": "ipython",
    "version": 3
   },
   "file_extension": ".py",
   "mimetype": "text/x-python",
   "name": "python",
   "nbconvert_exporter": "python",
   "pygments_lexer": "ipython3",
   "version": "3.9.20"
  }
 },
 "nbformat": 4,
 "nbformat_minor": 5
}
